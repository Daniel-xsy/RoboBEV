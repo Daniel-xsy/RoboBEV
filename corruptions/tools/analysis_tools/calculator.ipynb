{
 "cells": [
  {
   "cell_type": "markdown",
   "id": "3637344d",
   "metadata": {},
   "source": [
    "# Calculator\n",
    "RoboDet: Robust Bird's Eye View Detection under Corruptions"
   ]
  },
  {
   "cell_type": "code",
   "execution_count": 113,
   "id": "dc0ef77c",
   "metadata": {},
   "outputs": [],
   "source": [
    "import numpy as np"
   ]
  },
  {
   "attachments": {},
   "cell_type": "markdown",
   "id": "0b38f9c0",
   "metadata": {},
   "source": [
    "## Metrics\n",
    "\n",
    "### mCE\n",
    "- The Corruption Score (CS) for a model $A$ under corruption $i$ across 3 severity levels is:\n",
    "$\n",
    "\\text{CE}_i^{\\text{Model}A} = \\frac{\\sum^{3}_{l=1}((1 - \\text{NDS})_{i,l}^{\\text{Model}A})}{\\sum^{3}_{l=1}((1 - \\text{NDS})_{i,l}^{\\text{Baseline}})} .\n",
    "$\n",
    "- The average CE for a model $A$ on all corruptions, i.e., mCE, is calculated as:\n",
    "$\n",
    "\\text{mCE} = \\frac{1}{N}\\sum^N_{i=1}\\text{CE}_i ,\n",
    "$ where $N=8$ denotes the number of corruption types in our benchmark."
   ]
  },
  {
   "cell_type": "code",
   "execution_count": 114,
   "id": "1a573ac4",
   "metadata": {},
   "outputs": [],
   "source": [
    "def calculate_mCE(model, baseline):\n",
    "    score = [model[key][0] for key in model.keys() if key != 'clean']\n",
    "    score = 1 - np.array(score)\n",
    "    score_baseline = [baseline[key][0] for key in baseline.keys() if key != 'clean']\n",
    "    score_baseline = 1 - np.array(score_baseline)\n",
    "    CE = score / score_baseline\n",
    "    mCE = np.mean(CE)\n",
    "    print(\"mCS: {:.2f}%.\".format(mCE * 100))\n",
    "    CE = np.round(CE * 100, 2)\n",
    "    print(\"CS: {}.\".format(CE))\n",
    "    return mCE"
   ]
  },
  {
   "cell_type": "markdown",
   "id": "1066415e",
   "metadata": {},
   "source": [
    "### mRR\n",
    "- The Resilience Rate (RR) for a model $A$ under corruption $i$ across 3 severity levels is:\n",
    "$\n",
    "\\text{RR}_i^{\\text{Model}A} = \\frac{\\sum^{3}_{l=1}(\\text{NDS}_{i,l}^{\\text{Model}A})}{3\\times \\text{NDS}_{\\text{clean}}^{\\text{Model}A}} .\n",
    "$\n",
    "- The average RR for a model $A$ on all corruptions, i.e., mRR, is calculated as:\n",
    "$\n",
    "\\text{mRR} = \\frac{1}{N}\\sum^N_{i=1}\\text{RR}_i ,\n",
    "$ where $N=8$ denotes the number of corruption types in our benchmark."
   ]
  },
  {
   "cell_type": "code",
   "execution_count": 115,
   "id": "2be503fb",
   "metadata": {},
   "outputs": [],
   "source": [
    "def calculate_mRR(model):\n",
    "    score = [model[key][0] for key in model.keys() if key != 'clean']\n",
    "    score = np.array(score)\n",
    "    RR = score / model['clean'][0]\n",
    "    mRR = np.mean(RR)\n",
    "    print(\"mRR: {:.2f}%.\".format(mRR * 100))\n",
    "    RR = np.round(RR * 100, 2)\n",
    "    print(\"RR: {}.\".format(RR))\n",
    "    return mRR"
   ]
  },
  {
   "cell_type": "markdown",
   "id": "7481a07f",
   "metadata": {},
   "source": [
    "## Benchmark"
   ]
  },
  {
   "cell_type": "markdown",
   "id": "939d27a3",
   "metadata": {},
   "source": [
    "### DETR3D"
   ]
  },
  {
   "cell_type": "code",
   "execution_count": 116,
   "id": "b7f16e85",
   "metadata": {},
   "outputs": [],
   "source": [
    "DETR3D = {\n",
    "    # type,         NDS,    mAP,    mATE,   mASE,   mAOE,   mAVE,   mAAE, \n",
    "    'clean':       [0.4224, 0.3468, 0.7647, 0.2678, 0.3917, 0.8754, 0.2108], \n",
    "    'cam_crash':   [0.2859, 0.1144, 0.8400, 0.2821, 0.4707, 0.8992, 0.2202],\n",
    "    'frame_lost':  [0.2604, 0.0898, 0.8647, 0.3030, 0.5041, 0.9297, 0.2439],\n",
    "    'color_quant': [0.3177, 0.2165, 0.8953, 0.2816, 0.5266, 0.9813, 0.2483],\n",
    "    'motion_blur': [0.2661, 0.1479, 0.9146, 0.3085, 0.6351, 1.0385, 0.2526],\n",
    "    'brightness':  [0.4002, 0.3149, 0.7915, 0.2703, 0.4348, 0.8733, 0.2028],\n",
    "    'low_light':   [0.2786,\t0.1559,\t0.8768,\t0.2947,\t0.5802,\t1.0290,\t0.2654],\n",
    "    'fog':         [0.3912, 0.3007, 0.7961, 0.2711, 0.4326, 0.8807, 0.2110],\n",
    "    'snow':        [0.1913, 0.0776, 0.9714, 0.3752, 0.7486, 1.2478, 0.3797],\n",
    "}"
   ]
  },
  {
   "cell_type": "code",
   "execution_count": 117,
   "id": "e89223b1",
   "metadata": {},
   "outputs": [
    {
     "name": "stdout",
     "output_type": "stream",
     "text": [
      "mCS: 100.00%.\n",
      "CS: [100. 100. 100. 100. 100. 100. 100. 100.].\n",
      "mRR: 70.77%.\n",
      "RR: [67.68 61.65 75.21 63.   94.74 65.96 92.61 45.29].\n"
     ]
    }
   ],
   "source": [
    "DETR3D_mCE = calculate_mCE(DETR3D, DETR3D)\n",
    "DETR3D_mRR = calculate_mRR(DETR3D)"
   ]
  },
  {
   "cell_type": "code",
   "execution_count": 148,
   "id": "86387fd7",
   "metadata": {},
   "outputs": [],
   "source": [
    "DETR3D_cbgs = {\n",
    "    # type,         NDS,    mAP,    mATE,   mASE,   mAOE,   mAVE,   mAAE, \n",
    "    'clean':       [0.4341,\t0.3494,\t0.7163,\t0.2682,\t0.3798,\t0.8421,\t0.1997], \n",
    "    'cam_crash':   [0.2991,\t0.1174,\t0.7932,\t0.2853,\t0.4575,\t0.8471,\t0.2131],\n",
    "    'frame_lost':  [0.2685,\t0.0923,\t0.8268,\t0.3135,\t0.5042,\t0.8867,\t0.2455],\n",
    "    'color_quant': [0.3235,\t0.2152,\t0.8571,\t0.2875,\t0.5350,\t0.9354,\t0.2400],\n",
    "    'motion_blur': [0.2542,\t0.1385,\t0.8909,\t0.3355,\t0.6707,\t1.0682,\t0.2928],\n",
    "    'brightness':  [0.4154,\t0.3200,\t0.7357,\t0.2720,\t0.4086,\t0.8302,\t0.1990],\n",
    "    'low_light':   [0.2766, 0.1539, 0.8419, 0.3262, 0.5682, 1.0952, 0.2847],\n",
    "    'fog':         [0.4020,\t0.3012,\t0.7552,\t0.2710,\t0.4237,\t0.8302,\t0.2054],\n",
    "    'snow':        [0.1925,\t0.0702,\t0.9246,\t0.3793,\t0.7648,\t1.2585,\t0.3577],\n",
    "}"
   ]
  },
  {
   "cell_type": "code",
   "execution_count": 149,
   "id": "f743ae59",
   "metadata": {},
   "outputs": [
    {
     "name": "stdout",
     "output_type": "stream",
     "text": [
      "mCS: 99.21%.\n",
      "CS: [ 98.15  98.9   99.15 101.62  97.47 100.28  98.23  99.85].\n",
      "mRR: 70.02%.\n",
      "RR: [68.9  61.85 74.52 58.56 95.69 63.72 92.61 44.34].\n"
     ]
    }
   ],
   "source": [
    "DETR3D_cbgs_mCE = calculate_mCE(DETR3D_cbgs, DETR3D)\n",
    "DETR3D_cbgs_mRR = calculate_mRR(DETR3D_cbgs)"
   ]
  },
  {
   "cell_type": "markdown",
   "id": "7825eae4",
   "metadata": {},
   "source": [
    "### BEVFormer"
   ]
  },
  {
   "cell_type": "code",
   "execution_count": 120,
   "id": "3c6f14ff",
   "metadata": {},
   "outputs": [],
   "source": [
    "BEVFormer_Base = {\n",
    "    # type,         NDS,    mAP,    mATE,   mASE,   mAOE,   mAVE,   mAAE, \n",
    "    'clean':       [0.5174,\t0.4164,\t0.6726,\t0.2734,\t0.3704,\t0.3941,\t0.1974], \n",
    "    'cam_crash':   [0.3154,\t0.1545,\t0.8015,\t0.2975,\t0.5031,\t0.7865,\t0.2301],\n",
    "    'frame_lost':  [0.3017,\t0.1307,\t0.8359,\t0.3053,\t0.5262,\t0.7364,\t0.2328],\n",
    "    'color_quant': [0.3509,\t0.2393,\t0.8294,\t0.2953,\t0.5200,\t0.8079,\t0.2350],\n",
    "    'motion_blur': [0.2695,\t0.1531,\t0.8739,\t0.3236,\t0.6941,\t0.9334,\t0.2592],\n",
    "    'brightness':  [0.4184,\t0.3312,\t0.7457,\t0.2832,\t0.4721,\t0.7686,\t0.2024],\n",
    "    'low_light':   [0.2515,\t0.1394,\t0.8568,\t0.3601,\t0.6571,\t1.0322,\t0.3453],\n",
    "    'fog':         [0.4069,\t0.3141,\t0.7627,\t0.2837,\t0.4711,\t0.7798,\t0.2046],\n",
    "    'snow':        [0.1857,\t0.0739,\t0.9405,\t0.3966,\t0.7806,\t1.0880,\t0.3951],\n",
    "}"
   ]
  },
  {
   "cell_type": "code",
   "execution_count": 121,
   "id": "00f4aac0",
   "metadata": {},
   "outputs": [
    {
     "name": "stdout",
     "output_type": "stream",
     "text": [
      "mCS: 97.97%.\n",
      "CS: [ 95.87  94.42  95.13  99.54  96.97 103.76  97.42 100.69].\n",
      "mRR: 60.40%.\n",
      "RR: [60.96 58.31 67.82 52.09 80.87 48.61 78.64 35.89].\n"
     ]
    }
   ],
   "source": [
    "BEVFormer_Base_mCE = calculate_mCE(BEVFormer_Base, DETR3D)\n",
    "BEVFormer_Base_mRR = calculate_mRR(BEVFormer_Base)"
   ]
  },
  {
   "cell_type": "code",
   "execution_count": 122,
   "id": "7a9ab44d",
   "metadata": {},
   "outputs": [],
   "source": [
    "BEVFormer_Small = {\n",
    "    # type,         NDS,    mAP,    mATE,   mASE,   mAOE,   mAVE,   mAAE, \n",
    "    'clean':       [0.4787, 0.3700, 0.7212, 0.2792, 0.4065, 0.4364, 0.2201], \n",
    "    'cam_crash':   [0.2771, 0.1130, 0.8627, 0.3099, 0.5398, 0.8376, 0.2446],\n",
    "    'frame_lost':  [0.2459, 0.0933, 0.8959, 0.3411, 0.5742, 0.9154, 0.2804],\n",
    "    'color_quant': [0.3275, 0.2109, 0.8476, 0.2943, 0.5234, 0.8539, 0.2601],\n",
    "    'motion_blur': [0.2570, 0.1344, 0.8995, 0.3264, 0.6774, 0.9625, 0.2605],\n",
    "    'brightness':  [0.3741, 0.2697, 0.8064, 0.2830, 0.4796, 0.8162, 0.2226],\n",
    "    'low_light':   [0.2413,\t0.1191,\t0.8838,\t0.3598,\t0.6470,\t1.0391,\t0.3323],\n",
    "    'fog':         [0.3583, 0.2486, 0.8131, 0.2862, 0.5056, 0.8301, 0.2251],\n",
    "    'snow':        [0.1809, 0.0635, 0.9630, 0.3855, 0.7741, 1.1002, 0.3863],\n",
    "}"
   ]
  },
  {
   "cell_type": "code",
   "execution_count": 123,
   "id": "9fe5dbca",
   "metadata": {},
   "outputs": [
    {
     "name": "stdout",
     "output_type": "stream",
     "text": [
      "mCS: 102.40%.\n",
      "CS: [101.23 101.96  98.56 101.24 104.35 105.17 105.4  101.29].\n",
      "mRR: 59.07%.\n",
      "RR: [57.89 51.37 68.41 53.69 78.15 50.41 74.85 37.79].\n"
     ]
    }
   ],
   "source": [
    "BEVFormer_Small_mCE = calculate_mCE(BEVFormer_Small, DETR3D)\n",
    "BEVFormer_Small_mRR = calculate_mRR(BEVFormer_Small)"
   ]
  },
  {
   "attachments": {},
   "cell_type": "markdown",
   "id": "c2572667",
   "metadata": {},
   "source": [
    "### PETR"
   ]
  },
  {
   "cell_type": "code",
   "execution_count": 124,
   "id": "3eff7674",
   "metadata": {},
   "outputs": [],
   "source": [
    "PETR_res = {\n",
    "    # type,         NDS,    mAP,    mATE,   mASE,   mAOE,   mAVE,   mAAE, \n",
    "    'clean':       [0.3665,\t0.3174,\t0.8397,\t0.2796,\t0.6158,\t0.9543,\t0.2326], \n",
    "    'cam_crash':   [0.2320,\t0.1065,\t0.9383,\t0.2975,\t0.7220,\t1.0169,\t0.2585],\n",
    "    'frame_lost':  [0.2166,\t0.0868,\t0.9513,\t0.3041,\t0.7597,\t1.0081,\t0.2629],\n",
    "    'color_quant': [0.2472,\t0.1734,\t0.9121,\t0.3616,\t0.7807,\t1.1634,\t0.3473],\n",
    "    'motion_blur': [0.2299,\t0.1378,\t0.9587,\t0.3164,\t0.8461,\t1.1190,\t0.2847],\n",
    "    'brightness':  [0.2841,\t0.2101,\t0.9049,\t0.3080,\t0.7429,\t1.0838,\t0.2552],\n",
    "    'low_light':   [0.1571,\t0.0685,\t0.9465,\t0.4222,\t0.9201,\t1.4371,\t0.4971],\n",
    "    'fog':         [0.2876,\t0.2161,\t0.9078,\t0.2928,\t0.7492,\t1.1781,\t0.2549],\n",
    "    'snow':        [0.1417,\t0.0582,\t1.0437,\t0.4411,\t1.0177,\t1.3481,\t0.4713],\n",
    "}"
   ]
  },
  {
   "cell_type": "code",
   "execution_count": 125,
   "id": "0bd75397",
   "metadata": {},
   "outputs": [
    {
     "name": "stdout",
     "output_type": "stream",
     "text": [
      "mCS: 111.01%.\n",
      "CS: [107.55 105.92 110.33 104.93 119.36 116.84 117.02 106.13].\n",
      "mRR: 61.26%.\n",
      "RR: [63.3  59.1  67.45 62.73 77.52 42.86 78.47 38.66].\n"
     ]
    }
   ],
   "source": [
    "PETR_res_mCE = calculate_mCE(PETR_res, DETR3D)\n",
    "PETR_res_mRR = calculate_mRR(PETR_res)"
   ]
  },
  {
   "cell_type": "code",
   "execution_count": 126,
   "id": "85023d07",
   "metadata": {},
   "outputs": [],
   "source": [
    "PETR_Vov = {\n",
    "    # type,         NDS,    mAP,    mATE,   mASE,   mAOE,   mAVE,   mAAE, \n",
    "    'clean':       [0.4550,\t0.4035,\t0.7362,\t0.2710,\t0.4316,\t0.8249,\t0.2039], \n",
    "    'cam_crash':   [0.2924,\t0.1408,\t0.8167,\t0.2854,\t0.5492,\t0.9014,\t0.2267],\n",
    "    'frame_lost':  [0.2792,\t0.1153,\t0.8311,\t0.2909,\t0.5662,\t0.8816,\t0.2144],\n",
    "    'color_quant': [0.2968,\t0.2089,\t0.8818,\t0.3455,\t0.5997,\t1.0875,\t0.3123],\n",
    "    'motion_blur': [0.2490,\t0.1395,\t0.9521,\t0.3153,\t0.7424,\t1.0353,\t0.2639],\n",
    "    'brightness':  [0.3858,\t0.3199,\t0.7982,\t0.2779,\t0.5256,\t0.9342,\t0.2112],\n",
    "    'low_light':   [0.2305,\t0.1221,\t0.8897,\t0.3645,\t0.6960,\t1.2311,\t0.3553],\n",
    "    'fog':         [0.3703,\t0.2815,\t0.8337,\t0.2778,\t0.4982,\t0.8833,\t0.2111],\n",
    "    'snow':        [0.2632,\t0.1653,\t0.8980,\t0.3138,\t0.7034,\t1.1314,\t0.2886],\n",
    "}"
   ]
  },
  {
   "cell_type": "code",
   "execution_count": 127,
   "id": "45178bee",
   "metadata": {},
   "outputs": [
    {
     "name": "stdout",
     "output_type": "stream",
     "text": [
      "mCS: 100.69%.\n",
      "CS: [ 99.09  97.46 103.06 102.33 102.4  106.67 103.43  91.11].\n",
      "mRR: 65.03%.\n",
      "RR: [64.26 61.36 65.23 54.73 84.79 50.66 81.38 57.85].\n"
     ]
    }
   ],
   "source": [
    "PETR_Vov_mCE = calculate_mCE(PETR_Vov, DETR3D)\n",
    "PETR_Vov_mRR = calculate_mRR(PETR_Vov)"
   ]
  },
  {
   "attachments": {},
   "cell_type": "markdown",
   "id": "49249069",
   "metadata": {},
   "source": [
    "### BEVDet & BEVDepth"
   ]
  },
  {
   "cell_type": "code",
   "execution_count": 128,
   "id": "e35f2d4e",
   "metadata": {},
   "outputs": [],
   "source": [
    "BEV_Det = {\n",
    "    # type,         NDS,    mAP,    mATE,   mASE,   mAOE,   mAVE,   mAAE, \n",
    "    'clean':       [0.3770,\t0.2987,\t0.7336,\t0.2744,\t0.5713,\t0.9051,\t0.2394], \n",
    "    'cam_crash':   [0.2486,\t0.0990,\t0.8147,\t0.2975,\t0.6402,\t0.9990,\t0.2842],\n",
    "    'frame_lost':  [0.1924,\t0.0781,\t0.8545,\t0.4413,\t0.7179,\t1.0247,\t0.4780],\n",
    "    'color_quant': [0.2408,\t0.1542,\t0.8718,\t0.3579,\t0.7376,\t1.2194,\t0.3958],\n",
    "    'motion_blur': [0.2061,\t0.1156,\t0.8891,\t0.4020,\t0.7693,\t1.1521,\t0.4645],\n",
    "    'brightness':  [0.2565,\t0.1787,\t0.8380,\t0.3736,\t0.7216,\t1.2912,\t0.3955],\n",
    "    'low_light':   [0.1102,\t0.0470,\t0.9867,\t0.5308,\t0.9443,\t1.2841,\t0.6708],\n",
    "    'fog':         [0.2461,\t0.1404,\t0.8801,\t0.3018,\t0.7483,\t1.1610,\t0.3112],\n",
    "    'snow':        [0.0625,\t0.0254,\t0.9853,\t0.7204,\t1.0029,\t1.1642,\t0.8160],\n",
    "}"
   ]
  },
  {
   "cell_type": "code",
   "execution_count": 129,
   "id": "f4035919",
   "metadata": {},
   "outputs": [
    {
     "name": "stdout",
     "output_type": "stream",
     "text": [
      "mCS: 115.12%.\n",
      "CS: [105.22 109.19 111.27 108.18 123.96 123.34 123.83 115.93].\n",
      "mRR: 51.83%.\n",
      "RR: [65.94 51.03 63.87 54.67 68.04 29.23 65.28 16.58].\n"
     ]
    }
   ],
   "source": [
    "BEV_Det_mCE = calculate_mCE(BEV_Det, DETR3D)\n",
    "BEV_Det_mRR = calculate_mRR(BEV_Det)"
   ]
  },
  {
   "cell_type": "code",
   "execution_count": 130,
   "id": "53d9920e",
   "metadata": {},
   "outputs": [],
   "source": [
    "BEV_Depth = {\n",
    "    # type,         NDS,    mAP,    mATE,   mASE,   mAOE,   mAVE,   mAAE, \n",
    "    'clean':       [0.4058,\t0.3328,\t0.6633,\t0.2714,\t0.5581,\t0.8763,\t0.2369], \n",
    "    'cam_crash':   [0.2638,\t0.1111,\t0.7407,\t0.2959,\t0.6373,\t1.0079,\t0.2749],\n",
    "    'frame_lost':  [0.2141,\t0.0876,\t0.7890,\t0.4134,\t0.6728,\t1.0536,\t0.4498],\n",
    "    'color_quant': [0.2751,\t0.1865,\t0.8190,\t0.3292,\t0.6946,\t1.2008,\t0.3552],\n",
    "    'motion_blur': [0.2513,\t0.1508,\t0.8320,\t0.3516,\t0.7135,\t1.1084,\t0.3765],\n",
    "    'brightness':  [0.2879,\t0.2090,\t0.7520,\t0.3646,\t0.6724,\t1.2089,\t0.3766],\n",
    "    'low_light':   [0.1757,\t0.0820,\t0.8540,\t0.4509,\t0.8073,\t1.3149,\t0.5410],\n",
    "    'fog':         [0.2903,\t0.1973,\t0.7900,\t0.3021,\t0.6973,\t1.0640,\t0.2940],\n",
    "    'snow':        [0.0863,\t0.0350,\t0.9529,\t0.6682,\t0.9107,\t1.2750,\t0.7802],\n",
    "}"
   ]
  },
  {
   "cell_type": "code",
   "execution_count": 131,
   "id": "c40f3fed",
   "metadata": {},
   "outputs": [
    {
     "name": "stdout",
     "output_type": "stream",
     "text": [
      "mCS: 110.02%.\n",
      "CS: [103.09 106.26 106.24 102.02 118.72 114.26 116.57 112.98].\n",
      "mRR: 56.82%.\n",
      "RR: [65.01 52.76 67.79 61.93 70.95 43.3  71.54 21.27].\n"
     ]
    }
   ],
   "source": [
    "BEV_Depth_mCE = calculate_mCE(BEV_Depth, DETR3D)\n",
    "BEV_Depth_mRR = calculate_mRR(BEV_Depth)"
   ]
  },
  {
   "attachments": {},
   "cell_type": "markdown",
   "id": "ae85076e",
   "metadata": {},
   "source": [
    "### BEVerse"
   ]
  },
  {
   "cell_type": "code",
   "execution_count": 132,
   "id": "40e76fb7",
   "metadata": {},
   "outputs": [],
   "source": [
    "BEVerse_Tiny = {\n",
    "    # type,         NDS,    mAP,    mATE,   mASE,   mAOE,   mAVE,   mAAE, \n",
    "    'clean':       [0.4665,\t0.3214,\t0.6807,\t0.2782,\t0.4657,\t0.3281,\t0.1893], \n",
    "    'cam_crash':   [0.3181,\t0.1218,\t0.7447,\t0.3545,\t0.5479,\t0.4974,\t0.2833],\n",
    "    'frame_lost':  [0.3037,\t0.1466,\t0.7892,\t0.3511,\t0.6217,\t0.6491,\t0.2844],\n",
    "    'color_quant': [0.2600,\t0.1497,\t0.8577,\t0.4758,\t0.6711,\t0.6931,\t0.4676],\n",
    "    'motion_blur': [0.2647,\t0.1456,\t0.8139,\t0.4269,\t0.6275,\t0.8103,\t0.4225],\n",
    "    'brightness':  [0.2656,\t0.1512,\t0.8120,\t0.4548,\t0.6799,\t0.7029,\t0.4507],\n",
    "    'low_light':   [0.0593,\t0.0235,\t0.9744,\t0.7926,\t0.9961,\t0.9437,\t0.8304],\n",
    "    'fog':         [0.2781,\t0.1348,\t0.8467,\t0.3967,\t0.6135,\t0.6596,\t0.3764],\n",
    "    'snow':        [0.0644,\t0.0251,\t0.9662,\t0.7966,\t0.8893,\t0.9829,\t0.8464],\n",
    "}"
   ]
  },
  {
   "cell_type": "code",
   "execution_count": 133,
   "id": "1d96678a",
   "metadata": {},
   "outputs": [
    {
     "name": "stdout",
     "output_type": "stream",
     "text": [
      "mCS: 110.67%.\n",
      "CS: [ 95.49  94.15 108.46 100.19 122.44 130.4  118.58 115.69].\n",
      "mRR: 48.60%.\n",
      "RR: [68.19 65.1  55.73 56.74 56.93 12.71 59.61 13.8 ].\n"
     ]
    }
   ],
   "source": [
    "BEVerse_Tiny_mCE = calculate_mCE(BEVerse_Tiny, DETR3D)\n",
    "BEVerse_Tiny_mRR = calculate_mRR(BEVerse_Tiny)"
   ]
  },
  {
   "cell_type": "code",
   "execution_count": 134,
   "id": "b6c2da5b",
   "metadata": {},
   "outputs": [],
   "source": [
    "BEVerse_Small = {\n",
    "    # type,         NDS,    mAP,    mATE,   mASE,   mAOE,   mAVE,   mAAE, \n",
    "    'clean':       [0.4951,\t0.3512,\t0.6243,\t0.2694,\t0.3999,\t0.3292,\t0.1827], \n",
    "    'cam_crash':   [0.3364,\t0.1156,\t0.6753,\t0.3331,\t0.4460,\t0.4823,\t0.2772],\n",
    "    'frame_lost':  [0.2485,\t0.0959,\t0.7413,\t0.4389,\t0.5898,\t0.8170,\t0.4445],\n",
    "    'color_quant': [0.2807,\t0.1630,\t0.8148,\t0.4651,\t0.6311,\t0.6511,\t0.4455],\n",
    "    'motion_blur': [0.2632,\t0.1455,\t0.7866,\t0.4399,\t0.5753,\t0.8424,\t0.4586],\n",
    "    'brightness':  [0.3394,\t0.1935,\t0.7441,\t0.3736,\t0.4873,\t0.6357,\t0.3326],\n",
    "    'low_light':   [0.1118,\t0.0373,\t0.9230,\t0.6900,\t0.8727,\t0.8600,\t0.7223],\n",
    "    'fog':         [0.2849,\t0.1291,\t0.7858,\t0.4234,\t0.5105,\t0.6852,\t0.3921],\n",
    "    'snow':        [0.0985,\t0.0357,\t0.9309,\t0.7389,\t0.8864,\t0.8695,\t0.7676],\n",
    "}"
   ]
  },
  {
   "cell_type": "code",
   "execution_count": 135,
   "id": "73cc1fdc",
   "metadata": {},
   "outputs": [
    {
     "name": "stdout",
     "output_type": "stream",
     "text": [
      "mCS: 107.82%.\n",
      "CS: [ 92.93 101.61 105.42 100.4  110.14 123.12 117.46 111.48].\n",
      "mRR: 49.57%.\n",
      "RR: [67.95 50.19 56.7  53.16 68.55 22.58 57.54 19.89].\n"
     ]
    }
   ],
   "source": [
    "BEVerse_Small_mCE = calculate_mCE(BEVerse_Small, DETR3D)\n",
    "BEVerse_Small_mRR = calculate_mRR(BEVerse_Small)"
   ]
  },
  {
   "attachments": {},
   "cell_type": "markdown",
   "id": "e40a1c2b",
   "metadata": {},
   "source": [
    "### ORA3D"
   ]
  },
  {
   "cell_type": "code",
   "execution_count": 136,
   "id": "7f220ad2",
   "metadata": {},
   "outputs": [],
   "source": [
    "ORA3D = {\n",
    "    # type,         NDS,    mAP,    mATE,   mASE,   mAOE,   mAVE,   mAAE, \n",
    "    'clean':       [0.4436,\t0.3677,\t0.7319,\t0.2698,\t0.3890,\t0.8150,\t0.1975], \n",
    "    'cam_crash':   [0.3055,\t0.1275,\t0.7952,\t0.2803,\t0.4549,\t0.8376,\t0.2145],\n",
    "    'frame_lost':  [0.2750,\t0.0997,\t0.8362,\t0.3075,\t0.4963,\t0.8747, 0.2340],\n",
    "    'color_quant': [0.3360,\t0.2382,\t0.8479,\t0.2848,\t0.5249,\t0.9516,\t0.2432],\n",
    "    'motion_blur': [0.2647,\t0.1527,\t0.8656,\t0.3497,\t0.6251,\t1.0433,\t0.3160],\n",
    "    'brightness':  [0.4075,\t0.3252,\t0.7740,\t0.2741,\t0.4620,\t0.8372,\t0.2029],\n",
    "    'low_light':   [0.2613,\t0.1509,\t0.8489,\t0.3445,\t0.6207,\t1.2113,\t0.3278],\n",
    "    'fog':         [0.3959,\t0.3084,\t0.7822,\t0.2753,\t0.4515,\t0.8685,\t0.2048],\n",
    "    'snow':        [0.1898,\t0.0757,\t0.9404,\t0.3857,\t0.7665,\t1.2890,\t0.3879],\n",
    "}"
   ]
  },
  {
   "cell_type": "code",
   "execution_count": 137,
   "id": "537c35a6",
   "metadata": {},
   "outputs": [
    {
     "name": "stdout",
     "output_type": "stream",
     "text": [
      "mCS: 99.17%.\n",
      "CS: [ 97.26  98.03  97.32 100.19  98.78 102.4   99.23 100.19].\n",
      "mRR: 68.63%.\n",
      "RR: [68.87 61.99 75.74 59.67 91.86 58.9  89.25 42.79].\n"
     ]
    }
   ],
   "source": [
    "ORA3D_mCE = calculate_mCE(ORA3D, DETR3D)\n",
    "ORA3D_mRR = calculate_mRR(ORA3D)"
   ]
  },
  {
   "attachments": {},
   "cell_type": "markdown",
   "id": "179bce2e",
   "metadata": {},
   "source": [
    "### PolarFormer"
   ]
  },
  {
   "cell_type": "code",
   "execution_count": 138,
   "id": "58e045e1",
   "metadata": {},
   "outputs": [],
   "source": [
    "PolarFormer_r101 = {\n",
    "    # type,         NDS,    mAP,    mATE,   mASE,   mAOE,   mAVE,   mAAE, \n",
    "    'clean':       [0.4602,\t0.3916,\t0.7060,\t0.2718,\t0.3610,\t0.8079,\t0.2093], \n",
    "    'cam_crash':   [0.3133,\t0.1425,\t0.7746,\t0.2840,\t0.4440,\t0.8524,\t0.2250],\n",
    "    'frame_lost':  [0.2808,\t0.1134,\t0.8034,\t0.3093,\t0.4981,\t0.8988,\t0.2498],\n",
    "    'color_quant': [0.3509,\t0.2538, 0.8059,\t0.2999,\t0.4812,\t0.9724,\t0.2592],\n",
    "    'motion_blur': [0.3221,\t0.2117,\t0.8196,\t0.2946,\t0.5727,\t0.9379,\t0.2258],\n",
    "    'brightness':  [0.4304,\t0.3574,\t0.7390,\t0.2738,\t0.4149,\t0.8522,\t0.2032],\n",
    "    'low_light':   [0.2554,\t0.1393,\t0.8418,\t0.3557,\t0.6087,\t1.2004,\t0.3364],\n",
    "    'fog':         [0.4262,\t0.3518,\t0.7338,\t0.2735,\t0.4143,\t0.8672,\t0.2082],\n",
    "    'snow':        [0.2304,\t0.1058,\t0.9125,\t0.3363,\t0.6592,\t1.2284,\t0.3174],\n",
    "}"
   ]
  },
  {
   "cell_type": "code",
   "execution_count": 139,
   "id": "0a6c150e",
   "metadata": {},
   "outputs": [
    {
     "name": "stdout",
     "output_type": "stream",
     "text": [
      "mCS: 96.06%.\n",
      "CS: [ 96.16  97.24  95.13  92.37  94.96 103.22  94.25  95.17].\n",
      "mRR: 70.88%.\n",
      "RR: [68.08 61.02 76.25 69.99 93.52 55.5  92.61 50.07].\n"
     ]
    }
   ],
   "source": [
    "PolarFormer_r101_mCE = calculate_mCE(PolarFormer_r101, DETR3D)\n",
    "PolarFormer_r101_mRR = calculate_mRR(PolarFormer_r101)"
   ]
  },
  {
   "cell_type": "code",
   "execution_count": 140,
   "id": "c1ab9bad",
   "metadata": {},
   "outputs": [],
   "source": [
    "PolarFormer_Vov = {\n",
    "    # type,         NDS,    mAP,    mATE,   mASE,   mAOE,   mAVE,   mAAE, \n",
    "    'clean':       [0.5616,\t0.5004,\t0.5826,\t0.2621,\t0.2473,\t0.6015,\t0.1926], \n",
    "    'cam_crash':   [0.3904,\t0.1900,\t0.6509,\t0.2740,\t0.3012,\t0.6204,\t0.1996],\n",
    "    'frame_lost':  [0.3593,\t0.1515,\t0.6861,\t0.2811,\t0.3437,\t0.6551,\t0.1982],\n",
    "    'color_quant': [0.4328,\t0.3386,\t0.7216,\t0.2732,\t0.3562,\t0.7960,\t0.2308],\n",
    "    'motion_blur': [0.3448,\t0.2196,\t0.7956,\t0.2894,\t0.5065,\t0.8103,\t0.2485],\n",
    "    'brightness':  [0.5055,\t0.4292,\t0.6443,\t0.2659,\t0.3024,\t0.6856,\t0.1931],\n",
    "    'low_light':   [0.2719,\t0.1597,\t0.8008,\t0.3773,\t0.5759,\t1.1300,\t0.3724],\n",
    "    'fog':         [0.4905,\t0.4073,\t0.6597,\t0.2685,\t0.3026,\t0.7073,\t0.1934],\n",
    "    'snow':        [0.2662,\t0.1438,\t0.8749,\t0.3150,\t0.5717,\t1.1031,\t0.3027],\n",
    "}"
   ]
  },
  {
   "cell_type": "code",
   "execution_count": 141,
   "id": "66407e1f",
   "metadata": {},
   "outputs": [
    {
     "name": "stdout",
     "output_type": "stream",
     "text": [
      "mCS: 87.78%.\n",
      "CS: [ 85.37  86.63  83.13  89.28  82.44 100.93  83.69  90.74].\n",
      "mRR: 68.14%.\n",
      "RR: [69.52 63.98 77.07 61.4  90.01 48.42 87.34 47.4 ].\n"
     ]
    }
   ],
   "source": [
    "PolarFormer_Vov_mCE = calculate_mCE(PolarFormer_Vov, DETR3D)\n",
    "PolarFormer_Vov_mRR = calculate_mRR(PolarFormer_Vov)"
   ]
  },
  {
   "attachments": {},
   "cell_type": "markdown",
   "id": "f3fc4ce6",
   "metadata": {},
   "source": [
    "### SRCN3D"
   ]
  },
  {
   "cell_type": "code",
   "execution_count": 142,
   "id": "dfb13648",
   "metadata": {},
   "outputs": [],
   "source": [
    "SRCN3D_res = {\n",
    "    # type,         NDS,    mAP,    mATE,   mASE,   mAOE,   mAVE,   mAAE, \n",
    "    'clean':       [0.4286,\t0.3373,\t0.7783,\t0.2873,\t0.3665,\t0.7806,\t0.1878], \n",
    "    'cam_crash':   [0.2947,\t0.1172,\t0.8369,\t0.3017,\t0.4403,\t0.8506,\t0.2097],\n",
    "    'frame_lost':  [0.2681,\t0.0924,\t0.8637,\t0.3303,\t0.4798,\t0.8725,\t0.2349],\n",
    "    'color_quant': [0.3318,\t0.2199,\t0.8696,\t0.3041,\t0.4747,\t0.8877,\t0.2458],\n",
    "    'motion_blur': [0.2609,\t0.1361,\t0.9026,\t0.3524,\t0.5788,\t0.9964,\t0.2927],\n",
    "    'brightness':  [0.4074,\t0.3133,\t0.7936,\t0.2911,\t0.3974,\t0.8227,\t0.1877],\n",
    "    'low_light':   [0.2590,\t0.1406,\t0.8586,\t0.3642,\t0.5773,\t1.1257,\t0.3353],\n",
    "    'fog':         [0.3940,\t0.2932,\t0.7993,\t0.2919,\t0.3978,\t0.8428,\t0.1944],\n",
    "    'snow':        [0.1920,\t0.0734,\t0.9372,\t0.3996,\t0.7302,\t1.2366,\t0.3803],\n",
    "}"
   ]
  },
  {
   "cell_type": "code",
   "execution_count": 143,
   "id": "7225ec82",
   "metadata": {},
   "outputs": [
    {
     "name": "stdout",
     "output_type": "stream",
     "text": [
      "mCS: 99.67%.\n",
      "CS: [ 98.77  98.96  97.93 100.71  98.8  102.72  99.54  99.91].\n",
      "mRR: 70.23%.\n",
      "RR: [68.76 62.55 77.41 60.87 95.05 60.43 91.93 44.8 ].\n"
     ]
    }
   ],
   "source": [
    "SRCN3D_res_mCE = calculate_mCE(SRCN3D_res, DETR3D)\n",
    "SRCN3D_res_mRR = calculate_mRR(SRCN3D_res)"
   ]
  },
  {
   "cell_type": "code",
   "execution_count": 144,
   "id": "f1c231d9",
   "metadata": {},
   "outputs": [],
   "source": [
    "SRCN3D_Vov = {\n",
    "    # type,         NDS,    mAP,    mATE,   mASE,   mAOE,   mAVE,   mAAE, \n",
    "    'clean':       [0.4746,\t0.3960,\t0.7375,\t0.2939,\t0.2773,\t0.7281,\t0.1974], \n",
    "    'cam_crash':   [0.3288,\t0.1456,\t0.7957,\t0.3079,\t0.3359,\t0.7921,\t0.2080],\n",
    "    'frame_lost':  [0.3038,\t0.1146,\t0.8182,\t0.3162,\t0.3923,\t0.7999,\t0.2087],\n",
    "    'color_quant': [0.3794,\t0.2729,\t0.8189,\t0.3058,\t0.3728,\t0.8479,\t0.2325],\n",
    "    'motion_blur': [0.2978,\t0.1835,\t0.8811,\t0.3261,\t0.5673,\t0.9092,\t0.2633],\n",
    "    'brightness':  [0.4323,\t0.3374,\t0.7731,\t0.2995,\t0.3386,\t0.7621,\t0.1909],\n",
    "    'low_light':   [0.2171,\t0.1098,\t0.8868,\t0.4286,\t0.6419,\t1.2864,\t0.4210],\n",
    "    'fog':         [0.4201,\t0.3232,\t0.7712,\t0.2997,\t0.3468,\t0.8005,\t0.1970],\n",
    "    'snow':        [0.2041,\t0.0915,\t0.9705,\t0.3885,\t0.7113,\t1.1448,\t0.3604],\n",
    "}"
   ]
  },
  {
   "cell_type": "code",
   "execution_count": 145,
   "id": "b567ef85",
   "metadata": {},
   "outputs": [
    {
     "name": "stdout",
     "output_type": "stream",
     "text": [
      "mCS: 96.45%.\n",
      "CS: [ 93.99  94.13  90.96  95.68  94.65 108.53  95.25  98.42].\n",
      "mRR: 68.04%.\n",
      "RR: [69.28 64.01 79.94 62.75 91.09 45.74 88.52 43.  ].\n"
     ]
    }
   ],
   "source": [
    "SRCN3D_Vov_mCE = calculate_mCE(SRCN3D_Vov, DETR3D)\n",
    "SRCN3D_Vov_mRR = calculate_mRR(SRCN3D_Vov)"
   ]
  },
  {
   "attachments": {},
   "cell_type": "markdown",
   "id": "5678d755",
   "metadata": {},
   "source": [
    "Sparse4D"
   ]
  },
  {
   "cell_type": "code",
   "execution_count": 146,
   "id": "148d5fdb",
   "metadata": {},
   "outputs": [],
   "source": [
    "Sparse4D = {\n",
    "    # type,         NDS,    mAP,    mATE,   mASE,   mAOE,   mAVE,   mAAE, \n",
    "    'clean':       [0.5438,\t0.4409,\t0.6282,\t0.2721,\t0.3853,\t0.2922,\t0.1888], \n",
    "    'cam_crash':   [0.2873,\t0.1319,\t0.7852,\t0.2917,\t0.4989,\t0.9611,\t0.2510],\n",
    "    'frame_lost':  [0.2611,\t0.1050,\t0.8175,\t0.3166,\t0.5404,\t1.0253,\t0.2726],\n",
    "    'color_quant': [0.3310,\t0.2345,\t0.8348,\t0.2956,\t0.5452,\t0.9712,\t0.2496],\n",
    "    'motion_blur': [0.2514,\t0.1438,\t0.8719,\t0.3553,\t0.6780,\t1.0817,\t0.3347],\n",
    "    'brightness':  [0.3984,\t0.3296,\t0.7543,\t0.2835,\t0.4844,\t0.9232,\t0.2187],\n",
    "    'low_light':   [0.2510,\t0.1386,\t0.8501,\t0.3543,\t0.6464,\t1.1621,\t0.3356],\n",
    "    'fog':         [0.3884,\t0.3097,\t0.7552,\t0.2840,\t0.4933,\t0.9087,\t0.2229],\n",
    "    'snow':        [0.2259,\t0.1275,\t0.8860,\t0.3875,\t0.7116,\t1.1418,\t0.3936],\n",
    "}"
   ]
  },
  {
   "cell_type": "code",
   "execution_count": 147,
   "id": "e109373b",
   "metadata": {},
   "outputs": [
    {
     "name": "stdout",
     "output_type": "stream",
     "text": [
      "mCS: 100.01%.\n",
      "CS: [ 99.8   99.91  98.05 102.   100.3  103.83 100.46  95.72].\n",
      "mRR: 55.04%.\n",
      "RR: [52.83 48.01 60.87 46.23 73.26 46.16 71.42 41.54].\n"
     ]
    }
   ],
   "source": [
    "Sparse4D_mCE = calculate_mCE(Sparse4D, DETR3D)\n",
    "Sparse4D_mRR = calculate_mRR(Sparse4D)"
   ]
  }
 ],
 "metadata": {
  "kernelspec": {
   "display_name": "mcm",
   "language": "python",
   "name": "python3"
  },
  "language_info": {
   "codemirror_mode": {
    "name": "ipython",
    "version": 3
   },
   "file_extension": ".py",
   "mimetype": "text/x-python",
   "name": "python",
   "nbconvert_exporter": "python",
   "pygments_lexer": "ipython3",
   "version": "3.7.13"
  },
  "vscode": {
   "interpreter": {
    "hash": "0d442bb02ecd3189ac45e9a69155a2dcc72278374b73cd9476722074e6444fc4"
   }
  }
 },
 "nbformat": 4,
 "nbformat_minor": 5
}
